{
 "cells": [
  {
   "cell_type": "markdown",
   "id": "32c77518",
   "metadata": {},
   "source": [
    "# Natural Language Processing on High Level Programming Languages\n",
    "\n",
    "#### Author: Shaik Faizan Roshan Ali\n",
    "#### Timestamp: 2021-12-27 02:07:46"
   ]
  },
  {
   "cell_type": "code",
   "execution_count": 1,
   "id": "aacd13c2",
   "metadata": {},
   "outputs": [],
   "source": [
    "import pandas as pd \n",
    "import numpy as np\n",
    "import missingno as msno\n",
    "import seaborn as sns\n",
    "import matplotlib.pyplot as plt\n",
    "import pickle\n",
    "from tensorflow.keras.preprocessing.text import Tokenizer\n",
    "from sklearn.model_selection import train_test_split\n",
    "from sklearn.metrics import classification_report\n",
    "from gensim.models import Doc2Vec\n",
    "from gensim.models.doc2vec import TaggedDocument\n",
    "from nltk.tokenize import sent_tokenize, word_tokenize\n",
    "import random\n",
    "import os\n",
    "import tensorflow as tf\n",
    "import session_info\n",
    "os.environ['TF_CPP_MIN_LOG_LEVEL'] = '3'"
   ]
  },
  {
   "cell_type": "code",
   "execution_count": 2,
   "id": "fc59ac04",
   "metadata": {},
   "outputs": [
    {
     "data": {
      "text/html": [
       "<details>\n",
       "<summary>Click to view session information</summary>\n",
       "<pre>\n",
       "-----\n",
       "gensim              4.1.2\n",
       "keras_preprocessing 1.1.2\n",
       "matplotlib          3.4.2\n",
       "missingno           0.5.0\n",
       "nltk                3.6.3\n",
       "numpy               1.21.0\n",
       "pandas              1.3.0\n",
       "seaborn             0.11.1\n",
       "session_info        1.0.0\n",
       "sklearn             0.24.2\n",
       "tensorflow          2.8.0\n",
       "-----\n",
       "</pre>\n",
       "<details>\n",
       "<summary>Click to view modules imported as dependencies</summary>\n",
       "<pre>\n",
       "PIL                                         8.3.1\n",
       "aa8f2297d25b4dc6fd3d98411eb3ba53823c4f42    NA\n",
       "absl                                        NA\n",
       "astunparse                                  1.6.3\n",
       "backcall                                    0.2.0\n",
       "beta_ufunc                                  NA\n",
       "binom_ufunc                                 NA\n",
       "certifi                                     2021.05.30\n",
       "cffi                                        1.14.6\n",
       "chardet                                     3.0.4\n",
       "charset_normalizer                          2.0.2\n",
       "colorama                                    0.4.4\n",
       "cycler                                      0.10.0\n",
       "cython_runtime                              NA\n",
       "dateutil                                    2.8.1\n",
       "debugpy                                     1.3.0\n",
       "decorator                                   5.0.9\n",
       "defusedxml                                  0.7.1\n",
       "flatbuffers                                 2.0\n",
       "gast                                        0.5.3\n",
       "google                                      NA\n",
       "h5py                                        3.6.0\n",
       "idna                                        3.2\n",
       "ipykernel                                   6.0.1\n",
       "ipython_genutils                            0.2.0\n",
       "ipywidgets                                  7.6.3\n",
       "jedi                                        0.18.0\n",
       "joblib                                      1.0.1\n",
       "keras                                       2.8.0\n",
       "kiwisolver                                  1.3.1\n",
       "matplotlib_inline                           NA\n",
       "mpl_toolkits                                NA\n",
       "nbinom_ufunc                                NA\n",
       "nt                                          NA\n",
       "ntsecuritycon                               NA\n",
       "opt_einsum                                  v3.3.0\n",
       "parso                                       0.8.2\n",
       "pickleshare                                 0.7.5\n",
       "pkg_resources                               NA\n",
       "prompt_toolkit                              3.0.19\n",
       "psutil                                      5.8.0\n",
       "pyexpat                                     NA\n",
       "pygments                                    2.9.0\n",
       "pyparsing                                   2.4.7\n",
       "pythoncom                                   NA\n",
       "pytz                                        2021.1\n",
       "pywin32_bootstrap                           NA\n",
       "pywin32_system32                            NA\n",
       "pywintypes                                  NA\n",
       "regex                                       2.5.101\n",
       "requests                                    2.26.0\n",
       "scipy                                       1.7.0\n",
       "six                                         1.12.0\n",
       "smart_open                                  5.2.1\n",
       "storemagic                                  NA\n",
       "tensorboard                                 2.8.0\n",
       "termcolor                                   1.1.0\n",
       "tornado                                     6.1\n",
       "traitlets                                   5.0.5\n",
       "typing_extensions                           NA\n",
       "urllib3                                     1.26.6\n",
       "wcwidth                                     0.2.5\n",
       "win32api                                    NA\n",
       "win32com                                    NA\n",
       "win32security                               NA\n",
       "wrapt                                       1.14.0\n",
       "zmq                                         22.1.0\n",
       "</pre>\n",
       "</details> <!-- seems like this ends pre, so might as well be explicit -->\n",
       "<pre>\n",
       "-----\n",
       "IPython             7.25.0\n",
       "jupyter_client      6.1.12\n",
       "jupyter_core        4.7.1\n",
       "notebook            6.4.3\n",
       "-----\n",
       "Python 3.9.1 (tags/v3.9.1:1e5d33e, Dec  7 2020, 17:08:21) [MSC v.1927 64 bit (AMD64)]\n",
       "Windows-10-10.0.19041-SP0\n",
       "-----\n",
       "Session information updated at 2022-03-22 11:28\n",
       "</pre>\n",
       "</details>"
      ],
      "text/plain": [
       "<IPython.core.display.HTML object>"
      ]
     },
     "execution_count": 2,
     "metadata": {},
     "output_type": "execute_result"
    }
   ],
   "source": [
    "session_info.show()"
   ]
  },
  {
   "cell_type": "markdown",
   "id": "4cba532c",
   "metadata": {},
   "source": [
    "Load the dataset using line-terminator.\n",
    "lineterminator = '\\n' for the sample_code.csv file"
   ]
  },
  {
   "cell_type": "code",
   "execution_count": 36,
   "id": "f74bd717",
   "metadata": {},
   "outputs": [],
   "source": [
    "df = pd.read_csv('sample_code.csv', lineterminator='\\n')"
   ]
  },
  {
   "cell_type": "code",
   "execution_count": 37,
   "id": "154469b9",
   "metadata": {},
   "outputs": [
    {
     "data": {
      "text/html": [
       "<div>\n",
       "<style scoped>\n",
       "    .dataframe tbody tr th:only-of-type {\n",
       "        vertical-align: middle;\n",
       "    }\n",
       "\n",
       "    .dataframe tbody tr th {\n",
       "        vertical-align: top;\n",
       "    }\n",
       "\n",
       "    .dataframe thead th {\n",
       "        text-align: right;\n",
       "    }\n",
       "</style>\n",
       "<table border=\"1\" class=\"dataframe\">\n",
       "  <thead>\n",
       "    <tr style=\"text-align: right;\">\n",
       "      <th></th>\n",
       "      <th>content</th>\n",
       "      <th>type</th>\n",
       "    </tr>\n",
       "  </thead>\n",
       "  <tbody>\n",
       "    <tr>\n",
       "      <th>0</th>\n",
       "      <td>// Utility.cs\\n//\\n\\nusing System;\\nusing Syst...</td>\n",
       "      <td>cs</td>\n",
       "    </tr>\n",
       "    <tr>\n",
       "      <th>1</th>\n",
       "      <td>\\n{$options.identity.sitename} - Your Accounts...</td>\n",
       "      <td>txt</td>\n",
       "    </tr>\n",
       "    <tr>\n",
       "      <th>2</th>\n",
       "      <td>{\\n  \"name\": \"opulence/sessions\",\\n  \"descript...</td>\n",
       "      <td>json</td>\n",
       "    </tr>\n",
       "    <tr>\n",
       "      <th>3</th>\n",
       "      <td>package io.mycat.backend.postgresql.packet;\\r\\...</td>\n",
       "      <td>java</td>\n",
       "    </tr>\n",
       "    <tr>\n",
       "      <th>4</th>\n",
       "      <td>TAPi18n._afterUILanguageChange = function() {\\...</td>\n",
       "      <td>js</td>\n",
       "    </tr>\n",
       "  </tbody>\n",
       "</table>\n",
       "</div>"
      ],
      "text/plain": [
       "                                             content  type\n",
       "0  // Utility.cs\\n//\\n\\nusing System;\\nusing Syst...    cs\n",
       "1  \\n{$options.identity.sitename} - Your Accounts...   txt\n",
       "2  {\\n  \"name\": \"opulence/sessions\",\\n  \"descript...  json\n",
       "3  package io.mycat.backend.postgresql.packet;\\r\\...  java\n",
       "4  TAPi18n._afterUILanguageChange = function() {\\...    js"
      ]
     },
     "execution_count": 37,
     "metadata": {},
     "output_type": "execute_result"
    }
   ],
   "source": [
    "df.head()"
   ]
  },
  {
   "cell_type": "code",
   "execution_count": 154,
   "id": "708a23c6",
   "metadata": {},
   "outputs": [
    {
     "name": "stdout",
     "output_type": "stream",
     "text": [
      "package io.mycat.backend.postgresql.packet;\r\n",
      "\r\n",
      "import java.nio.ByteBuffer;\r\n",
      "\r\n",
      "import io.mycat.backend.postgresql.utils.PIOUtils;\r\n",
      "\r\n",
      "//\t\tBindComplete (B)\r\n",
      "//\t\tByte1('2')\r\n",
      "//\t\t标识消息为一个绑定结束标识符。\r\n",
      "//\t\t\r\n",
      "//\t\tInt32(4)\r\n",
      "//\t\t以字节记的消息长度，包括长度本身。\r\n",
      "\r\n",
      "\r\n",
      "/***\r\n",
      " * 绑定预编译sql成功\r\n",
      " * @author Coollf\r\n",
      " *\r\n",
      " */\r\n",
      "public class BindComplete extends PostgreSQLPacket {\r\n",
      "\tprivate char marker = PacketMarker.B_BindComplete.getValue();\r\n",
      "\tprivate int length;\r\n",
      "\r\n",
      "\t@Override\r\n",
      "\tpublic int getLength() {\r\n",
      "\t\treturn length;\r\n",
      "\t}\r\n",
      "\r\n",
      "\t@Override\r\n",
      "\tpublic char getMarker() {\r\n",
      "\t\treturn marker;\r\n",
      "\t}\r\n",
      "\r\n",
      "\tpublic static BindComplete parse(ByteBuffer buffer, int offset) {\r\n",
      "\t\tif ((char) buffer.get(offset) != PacketMarker.B_BindComplete.getValue()) {\r\n",
      "\t\t\tthrow new IllegalArgumentException(\r\n",
      "\t\t\t\t\t\"this packet not is BindComplete\");\r\n",
      "\t\t}\r\n",
      "\t\tBindComplete parse = new BindComplete();\r\n",
      "\t\tparse.length = PIOUtils.redInteger4(buffer, offset + 1);\r\n",
      "\t\treturn parse;\r\n",
      "\t}\r\n",
      "}\r\n",
      "\n"
     ]
    }
   ],
   "source": [
    "print(df['content'][3]) # viewing the code"
   ]
  },
  {
   "cell_type": "code",
   "execution_count": 39,
   "id": "d8c16c39",
   "metadata": {},
   "outputs": [
    {
     "name": "stdout",
     "output_type": "stream",
     "text": [
      "<class 'pandas.core.frame.DataFrame'>\n",
      "RangeIndex: 681918 entries, 0 to 681917\n",
      "Data columns (total 2 columns):\n",
      " #   Column   Non-Null Count   Dtype \n",
      "---  ------   --------------   ----- \n",
      " 0   content  681918 non-null  object\n",
      " 1   type     681912 non-null  object\n",
      "dtypes: object(2)\n",
      "memory usage: 10.4+ MB\n"
     ]
    }
   ],
   "source": [
    "df.info()"
   ]
  },
  {
   "cell_type": "markdown",
   "id": "a9622b02",
   "metadata": {},
   "source": [
    "#### Analyse and drop the null values\n",
    "* In the given dataset null values are significantly low (0.000879871 % of the dataset)"
   ]
  },
  {
   "cell_type": "code",
   "execution_count": 40,
   "id": "0826ddc6",
   "metadata": {},
   "outputs": [
    {
     "name": "stdout",
     "output_type": "stream",
     "text": [
      "Null values:\n",
      "content    0\n",
      "type       6\n",
      "dtype: int64\n"
     ]
    }
   ],
   "source": [
    "print(\"Null values:\\n\", df.isnull().sum(), sep=\"\")\n",
    "df.dropna(inplace=True) "
   ]
  },
  {
   "cell_type": "code",
   "execution_count": 155,
   "id": "de542cf0",
   "metadata": {},
   "outputs": [],
   "source": [
    "# drop the rows with character content less than 10.\n",
    "df = df[df['content'].str.len() > 10]"
   ]
  },
  {
   "cell_type": "markdown",
   "id": "bcadf5e4",
   "metadata": {},
   "source": [
    "### Combine different extensions of same programming language to a common extension"
   ]
  },
  {
   "cell_type": "code",
   "execution_count": 42,
   "id": "af7e9a13",
   "metadata": {},
   "outputs": [],
   "source": [
    "c_extensions = ['c', 'C', 'cpp', 'cc', 'h', 'hpp']\n",
    "html_extensions = ['html', 'htm']\n",
    "css_extensions = ['css', 'scss']\n",
    "\n",
    "# rename the type (extensions) of same programming languages\n",
    "df[df['type'].isin(c_extensions)] = 'c'\n",
    "df[df['type'].isin(html_extensions)] = 'html'\n",
    "df[df['type'].isin(css_extensions)] = 'css'"
   ]
  },
  {
   "cell_type": "code",
   "execution_count": 156,
   "id": "d93b5de0",
   "metadata": {},
   "outputs": [],
   "source": [
    "# Non-programming languages are considered as unfiletred_content"
   ]
  },
  {
   "cell_type": "code",
   "execution_count": 43,
   "id": "d7281288",
   "metadata": {},
   "outputs": [],
   "source": [
    "\n",
    "unfiltered_content = [\n",
    "                    'sublime-snippet', 'xcworkspacedata', 'gitignore', 'project', \n",
    "                    'properties', 'conf', 'config', 'cfg', 'meta', 'test', 'gradle',\n",
    "                    'patch', 'ebuild', 'ini','csv', 'json', 'txt', 'geojson', 'svg', \n",
    "                    'tpl', 'less', 'cmake', 'mk', 'd', 'md'\n",
    "                   ]\n",
    "\n",
    "df = df[~df['type'].isin(unfiltered_content)]"
   ]
  },
  {
   "cell_type": "code",
   "execution_count": 44,
   "id": "b4a0f11a",
   "metadata": {},
   "outputs": [
    {
     "data": {
      "text/html": [
       "<div>\n",
       "<style scoped>\n",
       "    .dataframe tbody tr th:only-of-type {\n",
       "        vertical-align: middle;\n",
       "    }\n",
       "\n",
       "    .dataframe tbody tr th {\n",
       "        vertical-align: top;\n",
       "    }\n",
       "\n",
       "    .dataframe thead th {\n",
       "        text-align: right;\n",
       "    }\n",
       "</style>\n",
       "<table border=\"1\" class=\"dataframe\">\n",
       "  <thead>\n",
       "    <tr style=\"text-align: right;\">\n",
       "      <th></th>\n",
       "      <th>language</th>\n",
       "      <th>count</th>\n",
       "    </tr>\n",
       "  </thead>\n",
       "  <tbody>\n",
       "    <tr>\n",
       "      <th>0</th>\n",
       "      <td>c</td>\n",
       "      <td>54065</td>\n",
       "    </tr>\n",
       "    <tr>\n",
       "      <th>1</th>\n",
       "      <td>js</td>\n",
       "      <td>49464</td>\n",
       "    </tr>\n",
       "    <tr>\n",
       "      <th>2</th>\n",
       "      <td>java</td>\n",
       "      <td>39064</td>\n",
       "    </tr>\n",
       "    <tr>\n",
       "      <th>3</th>\n",
       "      <td>xml</td>\n",
       "      <td>31016</td>\n",
       "    </tr>\n",
       "    <tr>\n",
       "      <th>4</th>\n",
       "      <td>php</td>\n",
       "      <td>27012</td>\n",
       "    </tr>\n",
       "    <tr>\n",
       "      <th>5</th>\n",
       "      <td>html</td>\n",
       "      <td>24941</td>\n",
       "    </tr>\n",
       "    <tr>\n",
       "      <th>6</th>\n",
       "      <td>rb</td>\n",
       "      <td>23008</td>\n",
       "    </tr>\n",
       "    <tr>\n",
       "      <th>7</th>\n",
       "      <td>cs</td>\n",
       "      <td>22891</td>\n",
       "    </tr>\n",
       "    <tr>\n",
       "      <th>8</th>\n",
       "      <td>py</td>\n",
       "      <td>19486</td>\n",
       "    </tr>\n",
       "    <tr>\n",
       "      <th>9</th>\n",
       "      <td>yml</td>\n",
       "      <td>10463</td>\n",
       "    </tr>\n",
       "    <tr>\n",
       "      <th>10</th>\n",
       "      <td>css</td>\n",
       "      <td>9000</td>\n",
       "    </tr>\n",
       "    <tr>\n",
       "      <th>11</th>\n",
       "      <td>sh</td>\n",
       "      <td>7477</td>\n",
       "    </tr>\n",
       "    <tr>\n",
       "      <th>12</th>\n",
       "      <td>m</td>\n",
       "      <td>7092</td>\n",
       "    </tr>\n",
       "    <tr>\n",
       "      <th>13</th>\n",
       "      <td>swift</td>\n",
       "      <td>6273</td>\n",
       "    </tr>\n",
       "    <tr>\n",
       "      <th>14</th>\n",
       "      <td>go</td>\n",
       "      <td>6004</td>\n",
       "    </tr>\n",
       "    <tr>\n",
       "      <th>15</th>\n",
       "      <td>sql</td>\n",
       "      <td>5810</td>\n",
       "    </tr>\n",
       "    <tr>\n",
       "      <th>16</th>\n",
       "      <td>rst</td>\n",
       "      <td>4591</td>\n",
       "    </tr>\n",
       "    <tr>\n",
       "      <th>17</th>\n",
       "      <td>yaml</td>\n",
       "      <td>3584</td>\n",
       "    </tr>\n",
       "    <tr>\n",
       "      <th>18</th>\n",
       "      <td>ts</td>\n",
       "      <td>3456</td>\n",
       "    </tr>\n",
       "    <tr>\n",
       "      <th>19</th>\n",
       "      <td>erb</td>\n",
       "      <td>3393</td>\n",
       "    </tr>\n",
       "    <tr>\n",
       "      <th>20</th>\n",
       "      <td>scala</td>\n",
       "      <td>3254</td>\n",
       "    </tr>\n",
       "    <tr>\n",
       "      <th>21</th>\n",
       "      <td>pgm</td>\n",
       "      <td>3021</td>\n",
       "    </tr>\n",
       "    <tr>\n",
       "      <th>22</th>\n",
       "      <td>st</td>\n",
       "      <td>2932</td>\n",
       "    </tr>\n",
       "    <tr>\n",
       "      <th>23</th>\n",
       "      <td>in</td>\n",
       "      <td>2458</td>\n",
       "    </tr>\n",
       "    <tr>\n",
       "      <th>24</th>\n",
       "      <td>lua</td>\n",
       "      <td>2000</td>\n",
       "    </tr>\n",
       "  </tbody>\n",
       "</table>\n",
       "</div>"
      ],
      "text/plain": [
       "   language  count\n",
       "0         c  54065\n",
       "1        js  49464\n",
       "2      java  39064\n",
       "3       xml  31016\n",
       "4       php  27012\n",
       "5      html  24941\n",
       "6        rb  23008\n",
       "7        cs  22891\n",
       "8        py  19486\n",
       "9       yml  10463\n",
       "10      css   9000\n",
       "11       sh   7477\n",
       "12        m   7092\n",
       "13    swift   6273\n",
       "14       go   6004\n",
       "15      sql   5810\n",
       "16      rst   4591\n",
       "17     yaml   3584\n",
       "18       ts   3456\n",
       "19      erb   3393\n",
       "20    scala   3254\n",
       "21      pgm   3021\n",
       "22       st   2932\n",
       "23       in   2458\n",
       "24      lua   2000"
      ]
     },
     "execution_count": 44,
     "metadata": {},
     "output_type": "execute_result"
    }
   ],
   "source": [
    "# top 25 language in the given dataset\n",
    "top_languages = df['type'].value_counts()[0:25].reset_index()\n",
    "top_languages.columns = ['language', 'count']\n",
    "top_languages"
   ]
  },
  {
   "cell_type": "code",
   "execution_count": 45,
   "id": "9e04761d",
   "metadata": {},
   "outputs": [
    {
     "data": {
      "image/png": "[encoded data removed]",
      "text/plain": [
       "<Figure size 864x504 with 1 Axes>"
      ]
     },
     "metadata": {
      "needs_background": "light"
     },
     "output_type": "display_data"
    }
   ],
   "source": [
    "# visualise the top 25 languages\n",
    "plt.figure(figsize=(12, 7))\n",
    "sns.barplot(x=top_languages['language'], y=top_languages['count'])\n",
    "plt.xticks(rotation=90)\n",
    "plt.show()"
   ]
  },
  {
   "cell_type": "markdown",
   "id": "28e57804",
   "metadata": {},
   "source": [
    "### Cleaned Dataframe"
   ]
  },
  {
   "cell_type": "code",
   "execution_count": 46,
   "id": "687cf0d5",
   "metadata": {},
   "outputs": [],
   "source": [
    "code_df = df[df['type'].isin(top_languages['language'])]"
   ]
  },
  {
   "cell_type": "code",
   "execution_count": 47,
   "id": "6af5ea65",
   "metadata": {},
   "outputs": [],
   "source": [
    "number_of_rows = code_df.shape[0]\n",
    "code_df = code_df.reset_index()\n",
    "code_df.drop('index', axis=1, inplace=True)"
   ]
  },
  {
   "cell_type": "code",
   "execution_count": 48,
   "id": "5d7428b8",
   "metadata": {},
   "outputs": [
    {
     "data": {
      "text/html": [
       "<div>\n",
       "<style scoped>\n",
       "    .dataframe tbody tr th:only-of-type {\n",
       "        vertical-align: middle;\n",
       "    }\n",
       "\n",
       "    .dataframe tbody tr th {\n",
       "        vertical-align: top;\n",
       "    }\n",
       "\n",
       "    .dataframe thead th {\n",
       "        text-align: right;\n",
       "    }\n",
       "</style>\n",
       "<table border=\"1\" class=\"dataframe\">\n",
       "  <thead>\n",
       "    <tr style=\"text-align: right;\">\n",
       "      <th></th>\n",
       "      <th>content</th>\n",
       "      <th>type</th>\n",
       "    </tr>\n",
       "  </thead>\n",
       "  <tbody>\n",
       "    <tr>\n",
       "      <th>0</th>\n",
       "      <td>// Utility.cs\\n//\\n\\nusing System;\\nusing Syst...</td>\n",
       "      <td>cs</td>\n",
       "    </tr>\n",
       "    <tr>\n",
       "      <th>1</th>\n",
       "      <td>package io.mycat.backend.postgresql.packet;\\r\\...</td>\n",
       "      <td>java</td>\n",
       "    </tr>\n",
       "    <tr>\n",
       "      <th>2</th>\n",
       "      <td>TAPi18n._afterUILanguageChange = function() {\\...</td>\n",
       "      <td>js</td>\n",
       "    </tr>\n",
       "    <tr>\n",
       "      <th>3</th>\n",
       "      <td>filter:\\n    paths: [\"src/*\"]\\ntools:\\n    ext...</td>\n",
       "      <td>yml</td>\n",
       "    </tr>\n",
       "    <tr>\n",
       "      <th>4</th>\n",
       "      <td>/**\\n * \\n */\\npackage org.openrtb.dsp.intf.mo...</td>\n",
       "      <td>java</td>\n",
       "    </tr>\n",
       "    <tr>\n",
       "      <th>...</th>\n",
       "      <td>...</td>\n",
       "      <td>...</td>\n",
       "    </tr>\n",
       "    <tr>\n",
       "      <th>371750</th>\n",
       "      <td>c</td>\n",
       "      <td>c</td>\n",
       "    </tr>\n",
       "    <tr>\n",
       "      <th>371751</th>\n",
       "      <td>--\\nDELETE FROM `conditions` WHERE `SourceType...</td>\n",
       "      <td>sql</td>\n",
       "    </tr>\n",
       "    <tr>\n",
       "      <th>371752</th>\n",
       "      <td>/**\\n *  Copyright 2005-2016 Red Hat, Inc.\\n *...</td>\n",
       "      <td>java</td>\n",
       "    </tr>\n",
       "    <tr>\n",
       "      <th>371753</th>\n",
       "      <td>c</td>\n",
       "      <td>c</td>\n",
       "    </tr>\n",
       "    <tr>\n",
       "      <th>371754</th>\n",
       "      <td>c</td>\n",
       "      <td>c</td>\n",
       "    </tr>\n",
       "  </tbody>\n",
       "</table>\n",
       "<p>371755 rows × 2 columns</p>\n",
       "</div>"
      ],
      "text/plain": [
       "                                                  content  type\n",
       "0       // Utility.cs\\n//\\n\\nusing System;\\nusing Syst...    cs\n",
       "1       package io.mycat.backend.postgresql.packet;\\r\\...  java\n",
       "2       TAPi18n._afterUILanguageChange = function() {\\...    js\n",
       "3       filter:\\n    paths: [\"src/*\"]\\ntools:\\n    ext...   yml\n",
       "4       /**\\n * \\n */\\npackage org.openrtb.dsp.intf.mo...  java\n",
       "...                                                   ...   ...\n",
       "371750                                                  c     c\n",
       "371751  --\\nDELETE FROM `conditions` WHERE `SourceType...   sql\n",
       "371752  /**\\n *  Copyright 2005-2016 Red Hat, Inc.\\n *...  java\n",
       "371753                                                  c     c\n",
       "371754                                                  c     c\n",
       "\n",
       "[371755 rows x 2 columns]"
      ]
     },
     "execution_count": 48,
     "metadata": {},
     "output_type": "execute_result"
    }
   ],
   "source": [
    "code_df"
   ]
  },
  {
   "cell_type": "markdown",
   "id": "cd6d612f",
   "metadata": {},
   "source": [
    "#### Including only the top 75 language in the dataset\n",
    "#### Filter the non-programming language content\n",
    "Examples: IDE generated, data files(csv, txt, json), config files etc."
   ]
  },
  {
   "cell_type": "markdown",
   "id": "e48a9f56",
   "metadata": {},
   "source": [
    "### The Machine Learning steps from here\n",
    "1. Split the train and test data with pareto principle\n",
    "2. Create vector for the text using Word2Vec (gensim.models)or BERT BiGRU\n",
    "3. Selecting classifier.(Bert, RoBERTa (DL) and SG, SVM, Naive-Bayes, MLP (ML))"
   ]
  },
  {
   "cell_type": "code",
   "execution_count": 49,
   "id": "03383975",
   "metadata": {},
   "outputs": [],
   "source": [
    "# x_train, x_test, y_train, y_test = train_test_split(code_df['content'], \n",
    "#                                                     code_df['type'], test_size=0.2, random_state=11)"
   ]
  },
  {
   "cell_type": "code",
   "execution_count": null,
   "id": "1d7b7d8f",
   "metadata": {},
   "outputs": [],
   "source": [
    "'''\n",
    "tagged = []\n",
    "faulty_index = []\n",
    "# tags = []\n",
    "for index in x_train.index:\n",
    "\n",
    "    try:\n",
    "        tokens = word_tokenize(x_train[index])\n",
    "        tagged.append(TaggedDocument(words=tokens,  tags=y_train[index]))\n",
    "        #tags.append(y_train[index])\n",
    "    except:\n",
    "        faulty_index.append(index)\n",
    "'''"
   ]
  },
  {
   "cell_type": "markdown",
   "id": "360595bf",
   "metadata": {},
   "source": [
    "### Doc2Vec Vectorization model"
   ]
  },
  {
   "cell_type": "code",
   "execution_count": 8,
   "id": "5fee6515",
   "metadata": {},
   "outputs": [
    {
     "data": {
      "text/plain": [
       "' code_snippet_model = Doc2Vec(vector_size=50, window=7, min_count=1, workers=6, epochs=10) '"
      ]
     },
     "execution_count": 8,
     "metadata": {},
     "output_type": "execute_result"
    }
   ],
   "source": [
    "''' code_snippet_model = Doc2Vec(vector_size=50, window=7, min_count=1, workers=6, epochs=10) '''"
   ]
  },
  {
   "cell_type": "markdown",
   "id": "9663cdb9",
   "metadata": {},
   "source": [
    "#### Build vocabulary\n",
    "Build vocabulary from a sequence of documents using tagged document objects"
   ]
  },
  {
   "cell_type": "code",
   "execution_count": 7,
   "id": "47d9b4b6",
   "metadata": {},
   "outputs": [
    {
     "data": {
      "text/plain": [
       "\"\\ncode_snippet_model.build_vocab(tagged)\\ncode_snippet_model.train(tagged, total_examples=code_snippet_model.corpus_count, epochs=10)\\ncode_snippet_model.save('midnight_code_snippet_model')\\n\""
      ]
     },
     "execution_count": 7,
     "metadata": {},
     "output_type": "execute_result"
    }
   ],
   "source": [
    "'''\n",
    "code_snippet_model.build_vocab(tagged)\n",
    "code_snippet_model.train(tagged, total_examples=code_snippet_model.corpus_count, epochs=10)\n",
    "code_snippet_model.save('midnight_code_snippet_model')\n",
    "'''"
   ]
  },
  {
   "cell_type": "markdown",
   "id": "cd3c2445",
   "metadata": {},
   "source": [
    "#### Load the Doc2Vec model"
   ]
  },
  {
   "cell_type": "code",
   "execution_count": 55,
   "id": "f61fa7ad",
   "metadata": {},
   "outputs": [],
   "source": [
    "code_snippet_model = Doc2Vec.load('midnight_code_snippet_model')"
   ]
  },
  {
   "cell_type": "markdown",
   "id": "c0af77d1",
   "metadata": {},
   "source": [
    "#### The magic of Doc2Vec"
   ]
  },
  {
   "cell_type": "code",
   "execution_count": 56,
   "id": "7ce7e00c",
   "metadata": {},
   "outputs": [
    {
     "data": {
      "text/plain": [
       "[('System.out.println', 0.7512139081954956),\n",
       " ('echo', 0.7153032422065735),\n",
       " ('Console.WriteLine', 0.7130371332168579),\n",
       " ('var_dump', 0.688762903213501),\n",
       " ('\\\\n', 0.6711711287498474),\n",
       " ('console.log', 0.6666593551635742),\n",
       " ('puts', 0.6458790898323059),\n",
       " ('fmt.Println', 0.637239933013916),\n",
       " ('ws.send', 0.6342785358428955),\n",
       " ('assertEquals', 0.6133455038070679)]"
      ]
     },
     "execution_count": 56,
     "metadata": {},
     "output_type": "execute_result"
    }
   ],
   "source": [
    "code_snippet_model.wv.most_similar('print')"
   ]
  },
  {
   "cell_type": "code",
   "execution_count": 57,
   "id": "e8a01b29",
   "metadata": {},
   "outputs": [
    {
     "data": {
      "text/plain": [
       "[('||', 0.7023719549179077),\n",
       " ('unless', 0.6616834998130798),\n",
       " ('elif', 0.6520282030105591),\n",
       " ('while', 0.6425095200538635),\n",
       " ('elseif', 0.6360433101654053),\n",
       " ('else', 0.6347188949584961),\n",
       " ('assert', 0.6156233549118042),\n",
       " ('ListUtil.listToArrayRemoveEmpty', 0.6135087013244629),\n",
       " ('responseText.indexOf', 0.6076799631118774),\n",
       " ('chrome.test.assertTrue', 0.5791233777999878)]"
      ]
     },
     "execution_count": 57,
     "metadata": {},
     "output_type": "execute_result"
    }
   ],
   "source": [
    "code_snippet_model.wv.most_similar('if')"
   ]
  },
  {
   "cell_type": "markdown",
   "id": "b42c14dd",
   "metadata": {},
   "source": [
    "#### Vectors are transformed back to a dataframe\n",
    "#### Stored in a dataframe and exported to a csv"
   ]
  },
  {
   "cell_type": "code",
   "execution_count": 3,
   "id": "46314220",
   "metadata": {},
   "outputs": [
    {
     "data": {
      "text/plain": [
       "'\\ntrain_array = []\\nfor index in x_train.index:\\n    \\n    if index not in faulty_index:\\n\\n        train_vector = list(code_snippet_model.infer_vector(word_tokenize(x_train[index])))\\n        train_vector.append(y_train[index])\\n        train_array.append(train_vector)\\n    else:\\n        pass\\n'"
      ]
     },
     "execution_count": 3,
     "metadata": {},
     "output_type": "execute_result"
    }
   ],
   "source": [
    "'''\n",
    "train_array = []\n",
    "for index in x_train.index:\n",
    "    \n",
    "    if index not in faulty_index:\n",
    "\n",
    "        train_vector = list(code_snippet_model.infer_vector(word_tokenize(x_train[index])))\n",
    "        train_vector.append(y_train[index])\n",
    "        train_array.append(train_vector)\n",
    "    else:\n",
    "        pass\n",
    "'''"
   ]
  },
  {
   "cell_type": "code",
   "execution_count": 4,
   "id": "71b7d6f0",
   "metadata": {},
   "outputs": [
    {
     "data": {
      "text/plain": [
       "\"\\ncols = [x for x in range(0, 50)]\\ncols.append('lang')\\ntrain_df = pd.DataFrame(train_array, columns=cols)\\ntrain_df.to_csv('trained_vector', index=False) # trained vector \\n\""
      ]
     },
     "execution_count": 4,
     "metadata": {},
     "output_type": "execute_result"
    }
   ],
   "source": [
    "'''\n",
    "cols = [x for x in range(0, 50)]\n",
    "cols.append('lang')\n",
    "train_df = pd.DataFrame(train_array, columns=cols)\n",
    "train_df.to_csv('trained_vector', index=False) # trained vector \n",
    "'''"
   ]
  },
  {
   "cell_type": "code",
   "execution_count": 60,
   "id": "9976af82",
   "metadata": {},
   "outputs": [],
   "source": [
    "train_df = pd.read_csv('trained_vector')"
   ]
  },
  {
   "cell_type": "code",
   "execution_count": 61,
   "id": "23e77993",
   "metadata": {},
   "outputs": [
    {
     "data": {
      "text/html": [
       "<div>\n",
       "<style scoped>\n",
       "    .dataframe tbody tr th:only-of-type {\n",
       "        vertical-align: middle;\n",
       "    }\n",
       "\n",
       "    .dataframe tbody tr th {\n",
       "        vertical-align: top;\n",
       "    }\n",
       "\n",
       "    .dataframe thead th {\n",
       "        text-align: right;\n",
       "    }\n",
       "</style>\n",
       "<table border=\"1\" class=\"dataframe\">\n",
       "  <thead>\n",
       "    <tr style=\"text-align: right;\">\n",
       "      <th></th>\n",
       "      <th>0</th>\n",
       "      <th>1</th>\n",
       "      <th>2</th>\n",
       "      <th>3</th>\n",
       "      <th>4</th>\n",
       "      <th>5</th>\n",
       "      <th>6</th>\n",
       "      <th>7</th>\n",
       "      <th>8</th>\n",
       "      <th>9</th>\n",
       "      <th>...</th>\n",
       "      <th>41</th>\n",
       "      <th>42</th>\n",
       "      <th>43</th>\n",
       "      <th>44</th>\n",
       "      <th>45</th>\n",
       "      <th>46</th>\n",
       "      <th>47</th>\n",
       "      <th>48</th>\n",
       "      <th>49</th>\n",
       "      <th>lang</th>\n",
       "    </tr>\n",
       "  </thead>\n",
       "  <tbody>\n",
       "    <tr>\n",
       "      <th>0</th>\n",
       "      <td>-0.057147</td>\n",
       "      <td>-0.051698</td>\n",
       "      <td>0.011729</td>\n",
       "      <td>-0.082089</td>\n",
       "      <td>-0.011450</td>\n",
       "      <td>-0.038587</td>\n",
       "      <td>-0.012985</td>\n",
       "      <td>0.069336</td>\n",
       "      <td>-0.014199</td>\n",
       "      <td>0.013881</td>\n",
       "      <td>...</td>\n",
       "      <td>0.045933</td>\n",
       "      <td>0.024880</td>\n",
       "      <td>-0.047050</td>\n",
       "      <td>0.008813</td>\n",
       "      <td>0.036911</td>\n",
       "      <td>0.093418</td>\n",
       "      <td>-0.050301</td>\n",
       "      <td>-0.013133</td>\n",
       "      <td>0.016538</td>\n",
       "      <td>c</td>\n",
       "    </tr>\n",
       "    <tr>\n",
       "      <th>1</th>\n",
       "      <td>0.068516</td>\n",
       "      <td>0.074142</td>\n",
       "      <td>0.023247</td>\n",
       "      <td>-0.443754</td>\n",
       "      <td>0.053480</td>\n",
       "      <td>0.083540</td>\n",
       "      <td>0.103227</td>\n",
       "      <td>0.513133</td>\n",
       "      <td>0.076389</td>\n",
       "      <td>-0.013970</td>\n",
       "      <td>...</td>\n",
       "      <td>-0.242868</td>\n",
       "      <td>0.112460</td>\n",
       "      <td>-0.003101</td>\n",
       "      <td>-0.075436</td>\n",
       "      <td>0.067696</td>\n",
       "      <td>0.374025</td>\n",
       "      <td>0.159639</td>\n",
       "      <td>-0.224017</td>\n",
       "      <td>-0.063501</td>\n",
       "      <td>rb</td>\n",
       "    </tr>\n",
       "    <tr>\n",
       "      <th>2</th>\n",
       "      <td>-0.033028</td>\n",
       "      <td>-0.026838</td>\n",
       "      <td>0.088610</td>\n",
       "      <td>0.045428</td>\n",
       "      <td>0.005419</td>\n",
       "      <td>0.064525</td>\n",
       "      <td>0.006845</td>\n",
       "      <td>0.233424</td>\n",
       "      <td>-0.120697</td>\n",
       "      <td>0.070785</td>\n",
       "      <td>...</td>\n",
       "      <td>-0.109145</td>\n",
       "      <td>0.067945</td>\n",
       "      <td>-0.065273</td>\n",
       "      <td>-0.039590</td>\n",
       "      <td>0.122663</td>\n",
       "      <td>0.147924</td>\n",
       "      <td>0.209696</td>\n",
       "      <td>-0.078442</td>\n",
       "      <td>-0.037185</td>\n",
       "      <td>rb</td>\n",
       "    </tr>\n",
       "    <tr>\n",
       "      <th>3</th>\n",
       "      <td>-0.032165</td>\n",
       "      <td>0.031722</td>\n",
       "      <td>0.076346</td>\n",
       "      <td>-0.113339</td>\n",
       "      <td>-0.258235</td>\n",
       "      <td>0.252573</td>\n",
       "      <td>0.167400</td>\n",
       "      <td>0.496314</td>\n",
       "      <td>-0.329236</td>\n",
       "      <td>0.061072</td>\n",
       "      <td>...</td>\n",
       "      <td>-0.311351</td>\n",
       "      <td>0.165247</td>\n",
       "      <td>-0.356933</td>\n",
       "      <td>0.093633</td>\n",
       "      <td>0.220023</td>\n",
       "      <td>0.388154</td>\n",
       "      <td>0.406436</td>\n",
       "      <td>-0.298847</td>\n",
       "      <td>0.093458</td>\n",
       "      <td>js</td>\n",
       "    </tr>\n",
       "    <tr>\n",
       "      <th>4</th>\n",
       "      <td>-0.077242</td>\n",
       "      <td>-0.041324</td>\n",
       "      <td>-0.013348</td>\n",
       "      <td>-0.042459</td>\n",
       "      <td>0.004981</td>\n",
       "      <td>-0.032884</td>\n",
       "      <td>0.025753</td>\n",
       "      <td>0.136845</td>\n",
       "      <td>0.002817</td>\n",
       "      <td>0.019040</td>\n",
       "      <td>...</td>\n",
       "      <td>0.025485</td>\n",
       "      <td>-0.020184</td>\n",
       "      <td>-0.073109</td>\n",
       "      <td>-0.020226</td>\n",
       "      <td>0.042971</td>\n",
       "      <td>0.004579</td>\n",
       "      <td>-0.008382</td>\n",
       "      <td>0.013740</td>\n",
       "      <td>0.000785</td>\n",
       "      <td>html</td>\n",
       "    </tr>\n",
       "    <tr>\n",
       "      <th>...</th>\n",
       "      <td>...</td>\n",
       "      <td>...</td>\n",
       "      <td>...</td>\n",
       "      <td>...</td>\n",
       "      <td>...</td>\n",
       "      <td>...</td>\n",
       "      <td>...</td>\n",
       "      <td>...</td>\n",
       "      <td>...</td>\n",
       "      <td>...</td>\n",
       "      <td>...</td>\n",
       "      <td>...</td>\n",
       "      <td>...</td>\n",
       "      <td>...</td>\n",
       "      <td>...</td>\n",
       "      <td>...</td>\n",
       "      <td>...</td>\n",
       "      <td>...</td>\n",
       "      <td>...</td>\n",
       "      <td>...</td>\n",
       "      <td>...</td>\n",
       "    </tr>\n",
       "    <tr>\n",
       "      <th>297354</th>\n",
       "      <td>0.156326</td>\n",
       "      <td>0.119303</td>\n",
       "      <td>0.262036</td>\n",
       "      <td>-0.177478</td>\n",
       "      <td>0.170714</td>\n",
       "      <td>-0.040401</td>\n",
       "      <td>-0.028876</td>\n",
       "      <td>0.106615</td>\n",
       "      <td>0.023056</td>\n",
       "      <td>0.244373</td>\n",
       "      <td>...</td>\n",
       "      <td>-0.024945</td>\n",
       "      <td>-0.128967</td>\n",
       "      <td>-0.010665</td>\n",
       "      <td>-0.010022</td>\n",
       "      <td>0.051946</td>\n",
       "      <td>0.223022</td>\n",
       "      <td>0.210854</td>\n",
       "      <td>-0.083314</td>\n",
       "      <td>-0.070193</td>\n",
       "      <td>swift</td>\n",
       "    </tr>\n",
       "    <tr>\n",
       "      <th>297355</th>\n",
       "      <td>-0.102698</td>\n",
       "      <td>0.038244</td>\n",
       "      <td>0.221957</td>\n",
       "      <td>-0.121777</td>\n",
       "      <td>0.060921</td>\n",
       "      <td>0.018183</td>\n",
       "      <td>-0.014907</td>\n",
       "      <td>0.353902</td>\n",
       "      <td>-0.128001</td>\n",
       "      <td>-0.054795</td>\n",
       "      <td>...</td>\n",
       "      <td>-0.124142</td>\n",
       "      <td>0.063943</td>\n",
       "      <td>-0.160129</td>\n",
       "      <td>-0.028977</td>\n",
       "      <td>0.206803</td>\n",
       "      <td>0.255659</td>\n",
       "      <td>0.251010</td>\n",
       "      <td>-0.071276</td>\n",
       "      <td>0.041125</td>\n",
       "      <td>java</td>\n",
       "    </tr>\n",
       "    <tr>\n",
       "      <th>297356</th>\n",
       "      <td>0.146392</td>\n",
       "      <td>0.278310</td>\n",
       "      <td>0.312181</td>\n",
       "      <td>0.027481</td>\n",
       "      <td>-0.113026</td>\n",
       "      <td>0.146931</td>\n",
       "      <td>-0.150162</td>\n",
       "      <td>0.296914</td>\n",
       "      <td>-0.305322</td>\n",
       "      <td>-0.029789</td>\n",
       "      <td>...</td>\n",
       "      <td>-0.506594</td>\n",
       "      <td>-0.007527</td>\n",
       "      <td>0.094895</td>\n",
       "      <td>0.016231</td>\n",
       "      <td>0.511176</td>\n",
       "      <td>0.546895</td>\n",
       "      <td>0.432472</td>\n",
       "      <td>-0.158435</td>\n",
       "      <td>-0.236512</td>\n",
       "      <td>erb</td>\n",
       "    </tr>\n",
       "    <tr>\n",
       "      <th>297357</th>\n",
       "      <td>-0.000881</td>\n",
       "      <td>0.152843</td>\n",
       "      <td>0.154819</td>\n",
       "      <td>-0.071869</td>\n",
       "      <td>-0.001853</td>\n",
       "      <td>0.091876</td>\n",
       "      <td>-0.073366</td>\n",
       "      <td>0.167283</td>\n",
       "      <td>-0.116461</td>\n",
       "      <td>0.010070</td>\n",
       "      <td>...</td>\n",
       "      <td>-0.096387</td>\n",
       "      <td>0.011821</td>\n",
       "      <td>0.033876</td>\n",
       "      <td>0.060214</td>\n",
       "      <td>0.073908</td>\n",
       "      <td>0.263890</td>\n",
       "      <td>0.184410</td>\n",
       "      <td>0.015548</td>\n",
       "      <td>-0.054194</td>\n",
       "      <td>rb</td>\n",
       "    </tr>\n",
       "    <tr>\n",
       "      <th>297358</th>\n",
       "      <td>-0.320295</td>\n",
       "      <td>-0.641923</td>\n",
       "      <td>0.109095</td>\n",
       "      <td>-0.069884</td>\n",
       "      <td>0.185968</td>\n",
       "      <td>-0.307011</td>\n",
       "      <td>0.391495</td>\n",
       "      <td>1.013253</td>\n",
       "      <td>-0.414616</td>\n",
       "      <td>0.250622</td>\n",
       "      <td>...</td>\n",
       "      <td>-0.107836</td>\n",
       "      <td>-0.178545</td>\n",
       "      <td>-0.779302</td>\n",
       "      <td>-0.421352</td>\n",
       "      <td>0.239937</td>\n",
       "      <td>0.298704</td>\n",
       "      <td>0.187393</td>\n",
       "      <td>0.141743</td>\n",
       "      <td>-0.131853</td>\n",
       "      <td>js</td>\n",
       "    </tr>\n",
       "  </tbody>\n",
       "</table>\n",
       "<p>297359 rows × 51 columns</p>\n",
       "</div>"
      ],
      "text/plain": [
       "               0         1         2         3         4         5         6  \\\n",
       "0      -0.057147 -0.051698  0.011729 -0.082089 -0.011450 -0.038587 -0.012985   \n",
       "1       0.068516  0.074142  0.023247 -0.443754  0.053480  0.083540  0.103227   \n",
       "2      -0.033028 -0.026838  0.088610  0.045428  0.005419  0.064525  0.006845   \n",
       "3      -0.032165  0.031722  0.076346 -0.113339 -0.258235  0.252573  0.167400   \n",
       "4      -0.077242 -0.041324 -0.013348 -0.042459  0.004981 -0.032884  0.025753   \n",
       "...          ...       ...       ...       ...       ...       ...       ...   \n",
       "297354  0.156326  0.119303  0.262036 -0.177478  0.170714 -0.040401 -0.028876   \n",
       "297355 -0.102698  0.038244  0.221957 -0.121777  0.060921  0.018183 -0.014907   \n",
       "297356  0.146392  0.278310  0.312181  0.027481 -0.113026  0.146931 -0.150162   \n",
       "297357 -0.000881  0.152843  0.154819 -0.071869 -0.001853  0.091876 -0.073366   \n",
       "297358 -0.320295 -0.641923  0.109095 -0.069884  0.185968 -0.307011  0.391495   \n",
       "\n",
       "               7         8         9  ...        41        42        43  \\\n",
       "0       0.069336 -0.014199  0.013881  ...  0.045933  0.024880 -0.047050   \n",
       "1       0.513133  0.076389 -0.013970  ... -0.242868  0.112460 -0.003101   \n",
       "2       0.233424 -0.120697  0.070785  ... -0.109145  0.067945 -0.065273   \n",
       "3       0.496314 -0.329236  0.061072  ... -0.311351  0.165247 -0.356933   \n",
       "4       0.136845  0.002817  0.019040  ...  0.025485 -0.020184 -0.073109   \n",
       "...          ...       ...       ...  ...       ...       ...       ...   \n",
       "297354  0.106615  0.023056  0.244373  ... -0.024945 -0.128967 -0.010665   \n",
       "297355  0.353902 -0.128001 -0.054795  ... -0.124142  0.063943 -0.160129   \n",
       "297356  0.296914 -0.305322 -0.029789  ... -0.506594 -0.007527  0.094895   \n",
       "297357  0.167283 -0.116461  0.010070  ... -0.096387  0.011821  0.033876   \n",
       "297358  1.013253 -0.414616  0.250622  ... -0.107836 -0.178545 -0.779302   \n",
       "\n",
       "              44        45        46        47        48        49   lang  \n",
       "0       0.008813  0.036911  0.093418 -0.050301 -0.013133  0.016538      c  \n",
       "1      -0.075436  0.067696  0.374025  0.159639 -0.224017 -0.063501     rb  \n",
       "2      -0.039590  0.122663  0.147924  0.209696 -0.078442 -0.037185     rb  \n",
       "3       0.093633  0.220023  0.388154  0.406436 -0.298847  0.093458     js  \n",
       "4      -0.020226  0.042971  0.004579 -0.008382  0.013740  0.000785   html  \n",
       "...          ...       ...       ...       ...       ...       ...    ...  \n",
       "297354 -0.010022  0.051946  0.223022  0.210854 -0.083314 -0.070193  swift  \n",
       "297355 -0.028977  0.206803  0.255659  0.251010 -0.071276  0.041125   java  \n",
       "297356  0.016231  0.511176  0.546895  0.432472 -0.158435 -0.236512    erb  \n",
       "297357  0.060214  0.073908  0.263890  0.184410  0.015548 -0.054194     rb  \n",
       "297358 -0.421352  0.239937  0.298704  0.187393  0.141743 -0.131853     js  \n",
       "\n",
       "[297359 rows x 51 columns]"
      ]
     },
     "execution_count": 61,
     "metadata": {},
     "output_type": "execute_result"
    }
   ],
   "source": [
    "train_df"
   ]
  },
  {
   "cell_type": "code",
   "execution_count": 62,
   "id": "c08860f3",
   "metadata": {},
   "outputs": [],
   "source": [
    "from sklearn.linear_model import LogisticRegression"
   ]
  },
  {
   "cell_type": "code",
   "execution_count": 63,
   "id": "dacb233c",
   "metadata": {
    "scrolled": true
   },
   "outputs": [
    {
     "data": {
      "text/plain": [
       "0             c\n",
       "1            rb\n",
       "2            rb\n",
       "3            js\n",
       "4          html\n",
       "          ...  \n",
       "297354    swift\n",
       "297355     java\n",
       "297356      erb\n",
       "297357       rb\n",
       "297358       js\n",
       "Name: lang, Length: 297359, dtype: object"
      ]
     },
     "execution_count": 63,
     "metadata": {},
     "output_type": "execute_result"
    }
   ],
   "source": [
    "train_df.iloc[:, -1]"
   ]
  },
  {
   "cell_type": "markdown",
   "id": "815805ed",
   "metadata": {},
   "source": [
    "## to-do \n",
    "    1. label encode the languages in the above train_df\n",
    "    2. re-train the model\n",
    "    \n",
    "    3. comment out the train part and do the following from the next time\n",
    "\n",
    "       3.1 using pickle load the logistic regression model with name \"code_recog_logistic_model.sav\"\n",
    "       3.2 pickle.load(open('code_recog_logistic_model.sav', 'rb'))\n",
    "    4. pick random samples and test the data"
   ]
  },
  {
   "cell_type": "code",
   "execution_count": 64,
   "id": "3f92cb9a",
   "metadata": {},
   "outputs": [],
   "source": [
    "logistic_regression = LogisticRegression(penalty='l2', solver='saga', max_iter=1000)\n",
    "code_recog_model = logistic_regression.fit(train_df.iloc[:, :-1], train_df.iloc[:,-1])"
   ]
  },
  {
   "cell_type": "markdown",
   "id": "9f2b95ee",
   "metadata": {},
   "source": [
    "### Saving the logistic regression model"
   ]
  },
  {
   "cell_type": "code",
   "execution_count": 65,
   "id": "c1e8e0c0",
   "metadata": {},
   "outputs": [],
   "source": [
    "pickle.dump(code_recog_model, open('code_recog_logistic_model.sav', 'wb'))"
   ]
  },
  {
   "cell_type": "markdown",
   "id": "7a3483d7",
   "metadata": {},
   "source": [
    "### Testing the logistic regression model"
   ]
  },
  {
   "cell_type": "code",
   "execution_count": 146,
   "id": "744c7ca7",
   "metadata": {},
   "outputs": [],
   "source": [
    "indices = np.random.randint(1, 1000, 20) # selecting 20 random indices"
   ]
  },
  {
   "cell_type": "code",
   "execution_count": 147,
   "id": "3008a6de",
   "metadata": {},
   "outputs": [
    {
     "data": {
      "text/plain": [
       "array(['cs', 'java', 'js', 'c', 'js', 'c', 'ts', 'c', 'js', 'cs', 'yml',\n",
       "       'php', 'xml', 'java', 'js', 'php', 'java', 'cs', 'rst', 'js'],\n",
       "      dtype=object)"
      ]
     },
     "execution_count": 147,
     "metadata": {},
     "output_type": "execute_result"
    }
   ],
   "source": [
    "# vectorizing the code\n",
    "test_vector = [] \n",
    "for index in indices:\n",
    "    \n",
    "    test_vector.append(code_snippet_model.infer_vector(word_tokenize(code_df['content'][index])))\n",
    "\n",
    "code_recog_model.predict(test_vector)"
   ]
  },
  {
   "cell_type": "code",
   "execution_count": 148,
   "id": "1667842b",
   "metadata": {},
   "outputs": [],
   "source": [
    "y_test = []\n",
    "for i in indices:\n",
    "    \n",
    "    y_test.append(code_df['type'][i])"
   ]
  },
  {
   "cell_type": "code",
   "execution_count": 153,
   "id": "6beaf16b",
   "metadata": {},
   "outputs": [
    {
     "name": "stdout",
     "output_type": "stream",
     "text": [
      "Testing accuracy 90.0 %\n"
     ]
    }
   ],
   "source": [
    "test_accuracy = code_recog_model.score(test_vector, y_test) \n",
    "print(\"Testing accuracy\", test_accuracy*100, \"%\")"
   ]
  }
 ],
 "metadata": {
  "kernelspec": {
   "display_name": "Python 3",
   "language": "python",
   "name": "python3"
  },
  "language_info": {
   "codemirror_mode": {
    "name": "ipython",
    "version": 3
   },
   "file_extension": ".py",
   "mimetype": "text/x-python",
   "name": "python",
   "nbconvert_exporter": "python",
   "pygments_lexer": "ipython3",
   "version": "3.9.1"
  }
 },
 "nbformat": 4,
 "nbformat_minor": 5
}
